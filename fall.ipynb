{
 "cells": [
  {
   "cell_type": "code",
   "execution_count": 27,
   "id": "edefb796-bb53-45f2-b2f5-efb7bc75f99a",
   "metadata": {},
   "outputs": [],
   "source": [
    "import numpy as np\n",
    "import pandas as pd\n",
    "import zipfile"
   ]
  },
  {
   "cell_type": "code",
   "execution_count": 28,
   "id": "7fb881cc-2b88-4421-b703-93b80d25a6b2",
   "metadata": {},
   "outputs": [],
   "source": [
    "subjects = np.arange(1, 40)\n",
    "tasks = np.arange(20, 35)          # is fall\n",
    "trials = np.arange(1, 12)"
   ]
  },
  {
   "cell_type": "code",
   "execution_count": 29,
   "id": "c64b0d4a-3c9b-4489-a505-91b5ebdb5705",
   "metadata": {},
   "outputs": [],
   "source": [
    "sensor_zip_path = 'sensor_data.zip'"
   ]
  },
  {
   "cell_type": "code",
   "execution_count": 30,
   "id": "effad13f-47f4-4155-8840-edbcb2b26a9b",
   "metadata": {},
   "outputs": [],
   "source": [
    "sensor_data_list = []"
   ]
  },
  {
   "cell_type": "code",
   "execution_count": 31,
   "id": "c62a4985-de1d-442c-8f68-cdc5405eb40c",
   "metadata": {},
   "outputs": [],
   "source": [
    "def read_file_from_zip(zip_path, file_name):\n",
    "    with zipfile.ZipFile(zip_path, 'r') as z:\n",
    "        if file_name in z.namelist():\n",
    "            with z.open(file_name) as f:\n",
    "                return pd.read_csv(f)\n",
    "        else:\n",
    "            return None"
   ]
  },
  {
   "cell_type": "code",
   "execution_count": 32,
   "id": "81819ff6-5aaf-4fc5-842a-d24224bc0ee2",
   "metadata": {},
   "outputs": [],
   "source": [
    "for i in subjects:\n",
    "    for j in tasks:\n",
    "        for k in trials:\n",
    "            try:\n",
    "                \n",
    "                filename = f'S{i:02d}T{j:02d}R{k:02d}.csv'\n",
    "                \n",
    "                # sensor data\n",
    "                data = read_file_from_zip(sensor_zip_path, f'SA{i:02d}/{filename}')\n",
    "                if data is None:\n",
    "                    continue  \n",
    "                \n",
    "                #  sensor data columns\n",
    "                sensor_data = data[['AccX', 'AccY', 'AccZ', 'GyrX', 'GyrY', 'GyrZ', 'EulerX', 'EulerY', 'EulerZ']].values\n",
    "                \n",
    "                # Appending each row of the sensor data to the list\n",
    "                for row in sensor_data:\n",
    "                    sensor_data_list.append(np.append(row, 1))  # Appending 1 to indicate a fall\n",
    "            \n",
    "            except Exception as e:\n",
    "                continue"
   ]
  },
  {
   "cell_type": "markdown",
   "id": "fd10d3b6-9de0-464a-a5ac-d90ff320d0b1",
   "metadata": {},
   "source": [
    "----------------------------------------ADL DATA------------------------------------"
   ]
  },
  {
   "cell_type": "code",
   "execution_count": 33,
   "id": "d790c360-6d59-443f-a676-d402daf21515",
   "metadata": {},
   "outputs": [],
   "source": [
    "range_array = np.arange(1, 20)\n",
    "additional_numbers = np.array([35, 36])\n",
    "# Concatenate the arrays\n",
    "adl_task = np.concatenate((range_array, additional_numbers))"
   ]
  },
  {
   "cell_type": "code",
   "execution_count": 34,
   "id": "7f53f0e7-6194-4d7d-b7c3-31e50ced62b8",
   "metadata": {},
   "outputs": [
    {
     "data": {
      "text/plain": [
       "array([ 1,  2,  3,  4,  5,  6,  7,  8,  9, 10, 11, 12, 13, 14, 15, 16, 17,\n",
       "       18, 19, 35, 36])"
      ]
     },
     "execution_count": 34,
     "metadata": {},
     "output_type": "execute_result"
    }
   ],
   "source": [
    "adl_task"
   ]
  },
  {
   "cell_type": "code",
   "execution_count": 35,
   "id": "e3162334-43b1-4546-8cfb-aabe60ae5d6e",
   "metadata": {},
   "outputs": [],
   "source": [
    "for i in subjects:\n",
    "    for j in adl_task:\n",
    "        for k in trials:\n",
    "            try:\n",
    "                \n",
    "                filename = f'S{i:02d}T{j:02d}R{k:02d}.csv'\n",
    "                \n",
    "                # sensor data\n",
    "                data = read_file_from_zip(sensor_zip_path, f'SA{i:02d}/{filename}')\n",
    "                if data is None:\n",
    "                    continue  \n",
    "                \n",
    "                #  sensor data columns\n",
    "                sensor_data = data[['AccX', 'AccY', 'AccZ', 'GyrX', 'GyrY', 'GyrZ', 'EulerX', 'EulerY', 'EulerZ']].values\n",
    "                \n",
    "                # Appending each row of the sensor data to the list\n",
    "                for row in sensor_data:\n",
    "                    sensor_data_list.append(np.append(row, 0))  # Appending 0 to indicate a non-fall\n",
    "            \n",
    "            except Exception as e:\n",
    "                continue"
   ]
  },
  {
   "cell_type": "code",
   "execution_count": 36,
   "id": "98c16033-1526-405b-8b21-b2ee3cebed48",
   "metadata": {},
   "outputs": [],
   "source": [
    "df_sensor_data = pd.DataFrame(sensor_data_list, columns=['AccX', 'AccY', 'AccZ', 'GyrX', 'GyrY', 'GyrZ', 'EulerX', 'EulerY', 'EulerZ','Fall'])"
   ]
  },
  {
   "cell_type": "code",
   "execution_count": 37,
   "id": "cfec3ff6-8efc-478d-ad7f-10c27f302b04",
   "metadata": {},
   "outputs": [
    {
     "data": {
      "text/plain": [
       "Fall\n",
       "0.0    2269693\n",
       "1.0    1725407\n",
       "Name: count, dtype: int64"
      ]
     },
     "execution_count": 37,
     "metadata": {},
     "output_type": "execute_result"
    }
   ],
   "source": [
    "df_sensor_data['Fall'].value_counts()"
   ]
  },
  {
   "cell_type": "code",
   "execution_count": 41,
   "id": "5a8c622b-ec21-45a9-85e8-f8df7df0ab85",
   "metadata": {},
   "outputs": [
    {
     "data": {
      "text/html": [
       "<div>\n",
       "<style scoped>\n",
       "    .dataframe tbody tr th:only-of-type {\n",
       "        vertical-align: middle;\n",
       "    }\n",
       "\n",
       "    .dataframe tbody tr th {\n",
       "        vertical-align: top;\n",
       "    }\n",
       "\n",
       "    .dataframe thead th {\n",
       "        text-align: right;\n",
       "    }\n",
       "</style>\n",
       "<table border=\"1\" class=\"dataframe\">\n",
       "  <thead>\n",
       "    <tr style=\"text-align: right;\">\n",
       "      <th></th>\n",
       "      <th>AccX</th>\n",
       "      <th>AccY</th>\n",
       "      <th>AccZ</th>\n",
       "      <th>GyrX</th>\n",
       "      <th>GyrY</th>\n",
       "      <th>GyrZ</th>\n",
       "      <th>EulerX</th>\n",
       "      <th>EulerY</th>\n",
       "      <th>EulerZ</th>\n",
       "      <th>Fall</th>\n",
       "    </tr>\n",
       "  </thead>\n",
       "  <tbody>\n",
       "    <tr>\n",
       "      <th>0</th>\n",
       "      <td>-0.250</td>\n",
       "      <td>-0.809</td>\n",
       "      <td>-0.188</td>\n",
       "      <td>-35.122325</td>\n",
       "      <td>14.954204</td>\n",
       "      <td>4.755551</td>\n",
       "      <td>40.657100</td>\n",
       "      <td>-14.782316</td>\n",
       "      <td>56.952025</td>\n",
       "      <td>1.0</td>\n",
       "    </tr>\n",
       "    <tr>\n",
       "      <th>1</th>\n",
       "      <td>-0.070</td>\n",
       "      <td>-1.023</td>\n",
       "      <td>0.056</td>\n",
       "      <td>-2.578311</td>\n",
       "      <td>-0.171887</td>\n",
       "      <td>-0.114592</td>\n",
       "      <td>40.628452</td>\n",
       "      <td>-14.782316</td>\n",
       "      <td>56.946296</td>\n",
       "      <td>1.0</td>\n",
       "    </tr>\n",
       "    <tr>\n",
       "      <th>2</th>\n",
       "      <td>-0.070</td>\n",
       "      <td>-1.019</td>\n",
       "      <td>0.056</td>\n",
       "      <td>-3.781523</td>\n",
       "      <td>0.859437</td>\n",
       "      <td>-0.286479</td>\n",
       "      <td>40.588345</td>\n",
       "      <td>-14.776587</td>\n",
       "      <td>56.952025</td>\n",
       "      <td>1.0</td>\n",
       "    </tr>\n",
       "    <tr>\n",
       "      <th>3</th>\n",
       "      <td>-0.070</td>\n",
       "      <td>-1.019</td>\n",
       "      <td>0.044</td>\n",
       "      <td>-5.385805</td>\n",
       "      <td>1.948057</td>\n",
       "      <td>-0.458366</td>\n",
       "      <td>40.531049</td>\n",
       "      <td>-14.759398</td>\n",
       "      <td>56.957755</td>\n",
       "      <td>1.0</td>\n",
       "    </tr>\n",
       "    <tr>\n",
       "      <th>4</th>\n",
       "      <td>-0.069</td>\n",
       "      <td>-1.025</td>\n",
       "      <td>0.028</td>\n",
       "      <td>-6.531721</td>\n",
       "      <td>2.578311</td>\n",
       "      <td>-0.687550</td>\n",
       "      <td>41.310272</td>\n",
       "      <td>-14.656266</td>\n",
       "      <td>56.539495</td>\n",
       "      <td>1.0</td>\n",
       "    </tr>\n",
       "    <tr>\n",
       "      <th>...</th>\n",
       "      <td>...</td>\n",
       "      <td>...</td>\n",
       "      <td>...</td>\n",
       "      <td>...</td>\n",
       "      <td>...</td>\n",
       "      <td>...</td>\n",
       "      <td>...</td>\n",
       "      <td>...</td>\n",
       "      <td>...</td>\n",
       "      <td>...</td>\n",
       "    </tr>\n",
       "    <tr>\n",
       "      <th>3995095</th>\n",
       "      <td>-0.035</td>\n",
       "      <td>-1.004</td>\n",
       "      <td>0.138</td>\n",
       "      <td>-0.229183</td>\n",
       "      <td>-1.661578</td>\n",
       "      <td>2.578311</td>\n",
       "      <td>98.033114</td>\n",
       "      <td>-3.420559</td>\n",
       "      <td>-29.742250</td>\n",
       "      <td>0.0</td>\n",
       "    </tr>\n",
       "    <tr>\n",
       "      <th>3995096</th>\n",
       "      <td>-0.030</td>\n",
       "      <td>-1.000</td>\n",
       "      <td>0.135</td>\n",
       "      <td>-0.630254</td>\n",
       "      <td>-1.375099</td>\n",
       "      <td>2.463719</td>\n",
       "      <td>98.027384</td>\n",
       "      <td>-3.443478</td>\n",
       "      <td>-29.759439</td>\n",
       "      <td>0.0</td>\n",
       "    </tr>\n",
       "    <tr>\n",
       "      <th>3995097</th>\n",
       "      <td>-0.024</td>\n",
       "      <td>-0.997</td>\n",
       "      <td>0.131</td>\n",
       "      <td>-1.203212</td>\n",
       "      <td>-1.546987</td>\n",
       "      <td>2.349128</td>\n",
       "      <td>97.947170</td>\n",
       "      <td>-3.374723</td>\n",
       "      <td>-29.776627</td>\n",
       "      <td>0.0</td>\n",
       "    </tr>\n",
       "    <tr>\n",
       "      <th>3995098</th>\n",
       "      <td>-0.019</td>\n",
       "      <td>-0.997</td>\n",
       "      <td>0.126</td>\n",
       "      <td>-1.776170</td>\n",
       "      <td>-1.776170</td>\n",
       "      <td>2.349128</td>\n",
       "      <td>97.929981</td>\n",
       "      <td>-3.391911</td>\n",
       "      <td>-29.799546</td>\n",
       "      <td>0.0</td>\n",
       "    </tr>\n",
       "    <tr>\n",
       "      <th>3995099</th>\n",
       "      <td>-0.014</td>\n",
       "      <td>-0.999</td>\n",
       "      <td>0.120</td>\n",
       "      <td>-2.234536</td>\n",
       "      <td>-2.234536</td>\n",
       "      <td>2.291832</td>\n",
       "      <td>97.907063</td>\n",
       "      <td>-3.414830</td>\n",
       "      <td>-29.822464</td>\n",
       "      <td>0.0</td>\n",
       "    </tr>\n",
       "  </tbody>\n",
       "</table>\n",
       "<p>3995100 rows × 10 columns</p>\n",
       "</div>"
      ],
      "text/plain": [
       "          AccX   AccY   AccZ       GyrX       GyrY      GyrZ     EulerX  \\\n",
       "0       -0.250 -0.809 -0.188 -35.122325  14.954204  4.755551  40.657100   \n",
       "1       -0.070 -1.023  0.056  -2.578311  -0.171887 -0.114592  40.628452   \n",
       "2       -0.070 -1.019  0.056  -3.781523   0.859437 -0.286479  40.588345   \n",
       "3       -0.070 -1.019  0.044  -5.385805   1.948057 -0.458366  40.531049   \n",
       "4       -0.069 -1.025  0.028  -6.531721   2.578311 -0.687550  41.310272   \n",
       "...        ...    ...    ...        ...        ...       ...        ...   \n",
       "3995095 -0.035 -1.004  0.138  -0.229183  -1.661578  2.578311  98.033114   \n",
       "3995096 -0.030 -1.000  0.135  -0.630254  -1.375099  2.463719  98.027384   \n",
       "3995097 -0.024 -0.997  0.131  -1.203212  -1.546987  2.349128  97.947170   \n",
       "3995098 -0.019 -0.997  0.126  -1.776170  -1.776170  2.349128  97.929981   \n",
       "3995099 -0.014 -0.999  0.120  -2.234536  -2.234536  2.291832  97.907063   \n",
       "\n",
       "            EulerY     EulerZ  Fall  \n",
       "0       -14.782316  56.952025   1.0  \n",
       "1       -14.782316  56.946296   1.0  \n",
       "2       -14.776587  56.952025   1.0  \n",
       "3       -14.759398  56.957755   1.0  \n",
       "4       -14.656266  56.539495   1.0  \n",
       "...            ...        ...   ...  \n",
       "3995095  -3.420559 -29.742250   0.0  \n",
       "3995096  -3.443478 -29.759439   0.0  \n",
       "3995097  -3.374723 -29.776627   0.0  \n",
       "3995098  -3.391911 -29.799546   0.0  \n",
       "3995099  -3.414830 -29.822464   0.0  \n",
       "\n",
       "[3995100 rows x 10 columns]"
      ]
     },
     "execution_count": 41,
     "metadata": {},
     "output_type": "execute_result"
    }
   ],
   "source": [
    "df_sensor_data"
   ]
  },
  {
   "cell_type": "code",
   "execution_count": 39,
   "id": "67fb58f3-7ae1-4b2a-9978-7acb383cd609",
   "metadata": {},
   "outputs": [
    {
     "name": "stdout",
     "output_type": "stream",
     "text": [
      "<class 'pandas.core.frame.DataFrame'>\n",
      "RangeIndex: 3995100 entries, 0 to 3995099\n",
      "Data columns (total 10 columns):\n",
      " #   Column  Dtype  \n",
      "---  ------  -----  \n",
      " 0   AccX    float64\n",
      " 1   AccY    float64\n",
      " 2   AccZ    float64\n",
      " 3   GyrX    float64\n",
      " 4   GyrY    float64\n",
      " 5   GyrZ    float64\n",
      " 6   EulerX  float64\n",
      " 7   EulerY  float64\n",
      " 8   EulerZ  float64\n",
      " 9   Fall    float64\n",
      "dtypes: float64(10)\n",
      "memory usage: 304.8 MB\n"
     ]
    }
   ],
   "source": [
    "df_sensor_data.info()"
   ]
  },
  {
   "cell_type": "code",
   "execution_count": 40,
   "id": "92511247-98b6-4f64-a133-78abbaab9e9b",
   "metadata": {},
   "outputs": [
    {
     "data": {
      "text/plain": [
       "AccX      0\n",
       "AccY      0\n",
       "AccZ      0\n",
       "GyrX      0\n",
       "GyrY      0\n",
       "GyrZ      0\n",
       "EulerX    0\n",
       "EulerY    0\n",
       "EulerZ    0\n",
       "Fall      0\n",
       "dtype: int64"
      ]
     },
     "execution_count": 40,
     "metadata": {},
     "output_type": "execute_result"
    }
   ],
   "source": [
    "df_sensor_data.isnull().sum()"
   ]
  },
  {
   "cell_type": "code",
   "execution_count": null,
   "id": "c26513a4-fb95-43ca-b775-603dd3ce46ec",
   "metadata": {},
   "outputs": [],
   "source": []
  }
 ],
 "metadata": {
  "kernelspec": {
   "display_name": "Python 3 (ipykernel)",
   "language": "python",
   "name": "python3"
  },
  "language_info": {
   "codemirror_mode": {
    "name": "ipython",
    "version": 3
   },
   "file_extension": ".py",
   "mimetype": "text/x-python",
   "name": "python",
   "nbconvert_exporter": "python",
   "pygments_lexer": "ipython3",
   "version": "3.11.7"
  }
 },
 "nbformat": 4,
 "nbformat_minor": 5
}
